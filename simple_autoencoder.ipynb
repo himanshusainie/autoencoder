{
 "cells": [
  {
   "cell_type": "code",
   "execution_count": 1,
   "metadata": {},
   "outputs": [
    {
     "name": "stderr",
     "output_type": "stream",
     "text": [
      "Using TensorFlow backend.\n"
     ]
    }
   ],
   "source": [
    "import numpy as np\n",
    "import pandas as pd\n",
    "import matplotlib.pyplot as plt\n",
    "%matplotlib inline\n",
    "import keras\n",
    "from sklearn.datasets import make_circles\n",
    "from keras.layers import Dense,Activation,Input\n",
    "from keras.models import Model\n",
    "from keras.utils import np_utils"
   ]
  },
  {
   "cell_type": "code",
   "execution_count": 2,
   "metadata": {},
   "outputs": [
    {
     "name": "stdout",
     "output_type": "stream",
     "text": [
      "(8000, 784)\n"
     ]
    }
   ],
   "source": [
    "ds=pd.read_csv('/home/himanshusainie97/Downloads/data/fashion-mnist_train.csv')\n",
    "data=ds.values[1000:9000,1:]/255.0\n",
    "print data.shape"
   ]
  },
  {
   "cell_type": "code",
   "execution_count": 3,
   "metadata": {},
   "outputs": [
    {
     "name": "stdout",
     "output_type": "stream",
     "text": [
      "_________________________________________________________________\n",
      "Layer (type)                 Output Shape              Param #   \n",
      "=================================================================\n",
      "input_1 (InputLayer)         (None, 784)               0         \n",
      "_________________________________________________________________\n",
      "dense_1 (Dense)              (None, 100)               78500     \n",
      "_________________________________________________________________\n",
      "activation_1 (Activation)    (None, 100)               0         \n",
      "_________________________________________________________________\n",
      "dense_2 (Dense)              (None, 784)               79184     \n",
      "_________________________________________________________________\n",
      "activation_2 (Activation)    (None, 784)               0         \n",
      "=================================================================\n",
      "Total params: 157,684\n",
      "Trainable params: 157,684\n",
      "Non-trainable params: 0\n",
      "_________________________________________________________________\n"
     ]
    },
    {
     "name": "stderr",
     "output_type": "stream",
     "text": [
      "/home/himanshusainie97/anaconda2/lib/python2.7/site-packages/ipykernel_launcher.py:9: UserWarning: Update your `Model` call to the Keras 2 API: `Model(outputs=[<tf.Tenso..., inputs=[<tf.Tenso...)`\n",
      "  if __name__ == '__main__':\n"
     ]
    }
   ],
   "source": [
    "inp = Input(shape=(784,))\n",
    "h1 = Dense(100)\n",
    "a1 = Activation('sigmoid')\n",
    "y = Dense(784)\n",
    "ya = Activation('sigmoid')\n",
    "\n",
    "y_out = ya(y(a1(h1(inp))))\n",
    "\n",
    "model = Model(input=[inp], output=[y_out])\n",
    "\n",
    "model.summary()\n"
   ]
  },
  {
   "cell_type": "code",
   "execution_count": 4,
   "metadata": {
    "collapsed": true
   },
   "outputs": [],
   "source": [
    "model.compile(loss='MSE', optimizer='adam', metrics=['accuracy'])"
   ]
  },
  {
   "cell_type": "code",
   "execution_count": 5,
   "metadata": {},
   "outputs": [
    {
     "name": "stdout",
     "output_type": "stream",
     "text": [
      "6400\n",
      "(8000, 784)\n"
     ]
    }
   ],
   "source": [
    "split = int(0.8*data.shape[0])\n",
    "print split\n",
    "print data.shape"
   ]
  },
  {
   "cell_type": "code",
   "execution_count": 6,
   "metadata": {},
   "outputs": [
    {
     "name": "stderr",
     "output_type": "stream",
     "text": [
      "/home/himanshusainie97/anaconda2/lib/python2.7/site-packages/ipykernel_launcher.py:1: UserWarning: The `nb_epoch` argument in `fit` has been renamed `epochs`.\n",
      "  \"\"\"Entry point for launching an IPython kernel.\n"
     ]
    },
    {
     "name": "stdout",
     "output_type": "stream",
     "text": [
      "Train on 6400 samples, validate on 1600 samples\n",
      "Epoch 1/100\n",
      " - 2s - loss: 0.0586 - acc: 0.0063 - val_loss: 0.0402 - val_acc: 0.0100\n",
      "Epoch 2/100\n",
      " - 2s - loss: 0.0327 - acc: 0.0095 - val_loss: 0.0294 - val_acc: 0.0131\n",
      "Epoch 3/100\n",
      " - 2s - loss: 0.0260 - acc: 0.0130 - val_loss: 0.0247 - val_acc: 0.0138\n",
      "Epoch 4/100\n",
      " - 2s - loss: 0.0224 - acc: 0.0159 - val_loss: 0.0218 - val_acc: 0.0156\n",
      "Epoch 5/100\n",
      " - 2s - loss: 0.0201 - acc: 0.0169 - val_loss: 0.0199 - val_acc: 0.0181\n",
      "Epoch 6/100\n",
      " - 2s - loss: 0.0183 - acc: 0.0156 - val_loss: 0.0183 - val_acc: 0.0219\n",
      "Epoch 7/100\n",
      " - 2s - loss: 0.0169 - acc: 0.0172 - val_loss: 0.0171 - val_acc: 0.0163\n",
      "Epoch 8/100\n",
      " - 2s - loss: 0.0158 - acc: 0.0172 - val_loss: 0.0161 - val_acc: 0.0206\n",
      "Epoch 9/100\n",
      " - 2s - loss: 0.0149 - acc: 0.0216 - val_loss: 0.0153 - val_acc: 0.0188\n",
      "Epoch 10/100\n",
      " - 2s - loss: 0.0141 - acc: 0.0213 - val_loss: 0.0146 - val_acc: 0.0231\n",
      "Epoch 11/100\n",
      " - 2s - loss: 0.0134 - acc: 0.0230 - val_loss: 0.0144 - val_acc: 0.0225\n",
      "Epoch 12/100\n",
      " - 2s - loss: 0.0129 - acc: 0.0252 - val_loss: 0.0136 - val_acc: 0.0275\n",
      "Epoch 13/100\n",
      " - 2s - loss: 0.0124 - acc: 0.0244 - val_loss: 0.0132 - val_acc: 0.0231\n",
      "Epoch 14/100\n",
      " - 2s - loss: 0.0120 - acc: 0.0273 - val_loss: 0.0128 - val_acc: 0.0306\n",
      "Epoch 15/100\n",
      " - 2s - loss: 0.0116 - acc: 0.0273 - val_loss: 0.0124 - val_acc: 0.0306\n",
      "Epoch 16/100\n",
      " - 2s - loss: 0.0112 - acc: 0.0289 - val_loss: 0.0121 - val_acc: 0.0288\n",
      "Epoch 17/100\n",
      " - 2s - loss: 0.0109 - acc: 0.0308 - val_loss: 0.0120 - val_acc: 0.0263\n",
      "Epoch 18/100\n",
      " - 2s - loss: 0.0106 - acc: 0.0280 - val_loss: 0.0116 - val_acc: 0.0306\n",
      "Epoch 19/100\n",
      " - 2s - loss: 0.0104 - acc: 0.0311 - val_loss: 0.0115 - val_acc: 0.0338\n",
      "Epoch 20/100\n",
      " - 2s - loss: 0.0101 - acc: 0.0330 - val_loss: 0.0112 - val_acc: 0.0338\n",
      "Epoch 21/100\n",
      " - 2s - loss: 0.0099 - acc: 0.0352 - val_loss: 0.0110 - val_acc: 0.0331\n",
      "Epoch 22/100\n",
      " - 2s - loss: 0.0097 - acc: 0.0345 - val_loss: 0.0108 - val_acc: 0.0331\n",
      "Epoch 23/100\n",
      " - 2s - loss: 0.0095 - acc: 0.0361 - val_loss: 0.0106 - val_acc: 0.0363\n",
      "Epoch 24/100\n",
      " - 2s - loss: 0.0093 - acc: 0.0356 - val_loss: 0.0107 - val_acc: 0.0350\n",
      "Epoch 25/100\n",
      " - 2s - loss: 0.0092 - acc: 0.0377 - val_loss: 0.0103 - val_acc: 0.0363\n",
      "Epoch 26/100\n",
      " - 2s - loss: 0.0090 - acc: 0.0370 - val_loss: 0.0103 - val_acc: 0.0406\n",
      "Epoch 27/100\n",
      " - 2s - loss: 0.0089 - acc: 0.0389 - val_loss: 0.0101 - val_acc: 0.0419\n",
      "Epoch 28/100\n",
      " - 2s - loss: 0.0087 - acc: 0.0381 - val_loss: 0.0100 - val_acc: 0.0400\n",
      "Epoch 29/100\n",
      " - 2s - loss: 0.0086 - acc: 0.0411 - val_loss: 0.0099 - val_acc: 0.0431\n",
      "Epoch 30/100\n",
      " - 2s - loss: 0.0085 - acc: 0.0419 - val_loss: 0.0098 - val_acc: 0.0450\n",
      "Epoch 31/100\n",
      " - 2s - loss: 0.0084 - acc: 0.0417 - val_loss: 0.0098 - val_acc: 0.0388\n",
      "Epoch 32/100\n",
      " - 2s - loss: 0.0083 - acc: 0.0395 - val_loss: 0.0097 - val_acc: 0.0469\n",
      "Epoch 33/100\n",
      " - 2s - loss: 0.0082 - acc: 0.0414 - val_loss: 0.0095 - val_acc: 0.0438\n",
      "Epoch 34/100\n",
      " - 2s - loss: 0.0081 - acc: 0.0408 - val_loss: 0.0095 - val_acc: 0.0475\n",
      "Epoch 35/100\n",
      " - 2s - loss: 0.0080 - acc: 0.0417 - val_loss: 0.0094 - val_acc: 0.0456\n",
      "Epoch 36/100\n",
      " - 2s - loss: 0.0080 - acc: 0.0444 - val_loss: 0.0093 - val_acc: 0.0456\n",
      "Epoch 37/100\n",
      " - 2s - loss: 0.0079 - acc: 0.0434 - val_loss: 0.0092 - val_acc: 0.0494\n",
      "Epoch 38/100\n",
      " - 2s - loss: 0.0079 - acc: 0.0448 - val_loss: 0.0093 - val_acc: 0.0538\n",
      "Epoch 39/100\n",
      " - 2s - loss: 0.0077 - acc: 0.0441 - val_loss: 0.0095 - val_acc: 0.0506\n",
      "Epoch 40/100\n",
      " - 2s - loss: 0.0077 - acc: 0.0459 - val_loss: 0.0090 - val_acc: 0.0500\n",
      "Epoch 41/100\n",
      " - 2s - loss: 0.0076 - acc: 0.0444 - val_loss: 0.0090 - val_acc: 0.0488\n",
      "Epoch 42/100\n",
      " - 2s - loss: 0.0076 - acc: 0.0473 - val_loss: 0.0089 - val_acc: 0.0488\n",
      "Epoch 43/100\n",
      " - 2s - loss: 0.0075 - acc: 0.0467 - val_loss: 0.0089 - val_acc: 0.0450\n",
      "Epoch 44/100\n",
      " - 2s - loss: 0.0075 - acc: 0.0463 - val_loss: 0.0089 - val_acc: 0.0513\n",
      "Epoch 45/100\n",
      " - 2s - loss: 0.0074 - acc: 0.0481 - val_loss: 0.0089 - val_acc: 0.0506\n",
      "Epoch 46/100\n",
      " - 2s - loss: 0.0074 - acc: 0.0456 - val_loss: 0.0088 - val_acc: 0.0444\n",
      "Epoch 47/100\n",
      " - 2s - loss: 0.0073 - acc: 0.0459 - val_loss: 0.0087 - val_acc: 0.0431\n",
      "Epoch 48/100\n",
      " - 2s - loss: 0.0072 - acc: 0.0491 - val_loss: 0.0087 - val_acc: 0.0488\n",
      "Epoch 49/100\n",
      " - 2s - loss: 0.0072 - acc: 0.0463 - val_loss: 0.0088 - val_acc: 0.0456\n",
      "Epoch 50/100\n",
      " - 2s - loss: 0.0072 - acc: 0.0473 - val_loss: 0.0087 - val_acc: 0.0494\n",
      "Epoch 51/100\n",
      " - 2s - loss: 0.0071 - acc: 0.0486 - val_loss: 0.0086 - val_acc: 0.0506\n",
      "Epoch 52/100\n",
      " - 2s - loss: 0.0071 - acc: 0.0486 - val_loss: 0.0086 - val_acc: 0.0563\n",
      "Epoch 53/100\n",
      " - 2s - loss: 0.0071 - acc: 0.0522 - val_loss: 0.0086 - val_acc: 0.0481\n",
      "Epoch 54/100\n",
      " - 2s - loss: 0.0070 - acc: 0.0489 - val_loss: 0.0085 - val_acc: 0.0481\n",
      "Epoch 55/100\n",
      " - 2s - loss: 0.0071 - acc: 0.0477 - val_loss: 0.0085 - val_acc: 0.0500\n",
      "Epoch 56/100\n",
      " - 2s - loss: 0.0070 - acc: 0.0503 - val_loss: 0.0085 - val_acc: 0.0463\n",
      "Epoch 57/100\n",
      " - 2s - loss: 0.0070 - acc: 0.0461 - val_loss: 0.0085 - val_acc: 0.0556\n",
      "Epoch 58/100\n",
      " - 2s - loss: 0.0070 - acc: 0.0527 - val_loss: 0.0084 - val_acc: 0.0513\n",
      "Epoch 59/100\n",
      " - 2s - loss: 0.0069 - acc: 0.0519 - val_loss: 0.0085 - val_acc: 0.0475\n",
      "Epoch 60/100\n",
      " - 2s - loss: 0.0069 - acc: 0.0517 - val_loss: 0.0085 - val_acc: 0.0519\n",
      "Epoch 61/100\n",
      " - 2s - loss: 0.0068 - acc: 0.0509 - val_loss: 0.0084 - val_acc: 0.0456\n",
      "Epoch 62/100\n",
      " - 2s - loss: 0.0069 - acc: 0.0508 - val_loss: 0.0084 - val_acc: 0.0581\n",
      "Epoch 63/100\n",
      " - 2s - loss: 0.0068 - acc: 0.0502 - val_loss: 0.0086 - val_acc: 0.0500\n",
      "Epoch 64/100\n",
      " - 2s - loss: 0.0068 - acc: 0.0494 - val_loss: 0.0086 - val_acc: 0.0538\n",
      "Epoch 65/100\n",
      " - 2s - loss: 0.0068 - acc: 0.0486 - val_loss: 0.0084 - val_acc: 0.0494\n",
      "Epoch 66/100\n",
      " - 2s - loss: 0.0067 - acc: 0.0484 - val_loss: 0.0083 - val_acc: 0.0538\n",
      "Epoch 67/100\n",
      " - 2s - loss: 0.0067 - acc: 0.0533 - val_loss: 0.0084 - val_acc: 0.0531\n",
      "Epoch 68/100\n",
      " - 2s - loss: 0.0067 - acc: 0.0489 - val_loss: 0.0084 - val_acc: 0.0531\n",
      "Epoch 69/100\n",
      " - 2s - loss: 0.0067 - acc: 0.0505 - val_loss: 0.0083 - val_acc: 0.0531\n",
      "Epoch 70/100\n",
      " - 2s - loss: 0.0067 - acc: 0.0513 - val_loss: 0.0083 - val_acc: 0.0519\n",
      "Epoch 71/100\n",
      " - 2s - loss: 0.0067 - acc: 0.0563 - val_loss: 0.0084 - val_acc: 0.0525\n",
      "Epoch 72/100\n",
      " - 2s - loss: 0.0067 - acc: 0.0520 - val_loss: 0.0085 - val_acc: 0.0569\n",
      "Epoch 73/100\n",
      " - 2s - loss: 0.0066 - acc: 0.0516 - val_loss: 0.0083 - val_acc: 0.0544\n",
      "Epoch 74/100\n",
      " - 2s - loss: 0.0066 - acc: 0.0502 - val_loss: 0.0083 - val_acc: 0.0513\n",
      "Epoch 75/100\n",
      " - 2s - loss: 0.0066 - acc: 0.0553 - val_loss: 0.0083 - val_acc: 0.0550\n",
      "Epoch 76/100\n",
      " - 2s - loss: 0.0066 - acc: 0.0550 - val_loss: 0.0084 - val_acc: 0.0569\n",
      "Epoch 77/100\n",
      " - 2s - loss: 0.0066 - acc: 0.0536 - val_loss: 0.0083 - val_acc: 0.0569\n",
      "Epoch 78/100\n",
      " - 2s - loss: 0.0066 - acc: 0.0523 - val_loss: 0.0082 - val_acc: 0.0544\n",
      "Epoch 79/100\n",
      " - 2s - loss: 0.0066 - acc: 0.0538 - val_loss: 0.0084 - val_acc: 0.0556\n",
      "Epoch 80/100\n",
      " - 2s - loss: 0.0065 - acc: 0.0533 - val_loss: 0.0083 - val_acc: 0.0544\n",
      "Epoch 81/100\n",
      " - 2s - loss: 0.0066 - acc: 0.0544 - val_loss: 0.0083 - val_acc: 0.0556\n",
      "Epoch 82/100\n",
      " - 2s - loss: 0.0065 - acc: 0.0530 - val_loss: 0.0082 - val_acc: 0.0594\n",
      "Epoch 83/100\n",
      " - 2s - loss: 0.0065 - acc: 0.0538 - val_loss: 0.0082 - val_acc: 0.0550\n",
      "Epoch 84/100\n",
      " - 2s - loss: 0.0065 - acc: 0.0545 - val_loss: 0.0086 - val_acc: 0.0500\n",
      "Epoch 85/100\n",
      " - 2s - loss: 0.0065 - acc: 0.0548 - val_loss: 0.0082 - val_acc: 0.0544\n",
      "Epoch 86/100\n",
      " - 2s - loss: 0.0065 - acc: 0.0561 - val_loss: 0.0083 - val_acc: 0.0519\n",
      "Epoch 87/100\n",
      " - 2s - loss: 0.0065 - acc: 0.0555 - val_loss: 0.0082 - val_acc: 0.0550\n",
      "Epoch 88/100\n",
      " - 2s - loss: 0.0065 - acc: 0.0542 - val_loss: 0.0082 - val_acc: 0.0569\n",
      "Epoch 89/100\n",
      " - 2s - loss: 0.0064 - acc: 0.0545 - val_loss: 0.0082 - val_acc: 0.0544\n",
      "Epoch 90/100\n",
      " - 2s - loss: 0.0064 - acc: 0.0530 - val_loss: 0.0083 - val_acc: 0.0600\n",
      "Epoch 91/100\n",
      " - 2s - loss: 0.0064 - acc: 0.0569 - val_loss: 0.0082 - val_acc: 0.0588\n",
      "Epoch 92/100\n",
      " - 2s - loss: 0.0064 - acc: 0.0558 - val_loss: 0.0082 - val_acc: 0.0525\n",
      "Epoch 93/100\n",
      " - 2s - loss: 0.0064 - acc: 0.0541 - val_loss: 0.0082 - val_acc: 0.0525\n",
      "Epoch 94/100\n",
      " - 2s - loss: 0.0064 - acc: 0.0570 - val_loss: 0.0082 - val_acc: 0.0581\n",
      "Epoch 95/100\n",
      " - 2s - loss: 0.0064 - acc: 0.0527 - val_loss: 0.0084 - val_acc: 0.0638\n",
      "Epoch 96/100\n",
      " - 2s - loss: 0.0064 - acc: 0.0569 - val_loss: 0.0081 - val_acc: 0.0519\n"
     ]
    },
    {
     "name": "stdout",
     "output_type": "stream",
     "text": [
      "Epoch 97/100\n",
      " - 2s - loss: 0.0064 - acc: 0.0556 - val_loss: 0.0081 - val_acc: 0.0525\n",
      "Epoch 98/100\n",
      " - 2s - loss: 0.0064 - acc: 0.0555 - val_loss: 0.0081 - val_acc: 0.0613\n",
      "Epoch 99/100\n",
      " - 2s - loss: 0.0063 - acc: 0.0548 - val_loss: 0.0083 - val_acc: 0.0525\n",
      "Epoch 100/100\n",
      " - 2s - loss: 0.0064 - acc: 0.0567 - val_loss: 0.0083 - val_acc: 0.0600\n"
     ]
    },
    {
     "data": {
      "text/plain": [
       "<keras.callbacks.History at 0x7f52f4d27410>"
      ]
     },
     "execution_count": 6,
     "metadata": {},
     "output_type": "execute_result"
    }
   ],
   "source": [
    "model.fit(data[:split], data[:split], batch_size=15, nb_epoch=100, verbose=2, validation_data=(data[split:], data[split:]))"
   ]
  },
  {
   "cell_type": "code",
   "execution_count": 7,
   "metadata": {},
   "outputs": [
    {
     "name": "stderr",
     "output_type": "stream",
     "text": [
      "/home/himanshusainie97/anaconda2/lib/python2.7/site-packages/ipykernel_launcher.py:3: UserWarning: Update your `Model` call to the Keras 2 API: `Model(outputs=[<tf.Tenso..., inputs=[<tf.Tenso...)`\n",
      "  This is separate from the ipykernel package so we can avoid doing imports until\n",
      "/home/himanshusainie97/anaconda2/lib/python2.7/site-packages/ipykernel_launcher.py:8: UserWarning: Update your `Model` call to the Keras 2 API: `Model(outputs=[<tf.Tenso..., inputs=[<tf.Tenso...)`\n",
      "  \n"
     ]
    }
   ],
   "source": [
    "a2 = Activation('sigmoid')\n",
    "enc_out = a2(h1(inp))\n",
    "encoder = Model(input=[inp], output=[enc_out])\n",
    "\n",
    "## Decoder\n",
    "dec_inp = Input(shape=(100,))\n",
    "dec_out = ya(y(a1(dec_inp)))\n",
    "decoder = Model(input=[dec_inp], output=[dec_out])"
   ]
  },
  {
   "cell_type": "code",
   "execution_count": 8,
   "metadata": {},
   "outputs": [
    {
     "name": "stdout",
     "output_type": "stream",
     "text": [
      "(1000, 784)\n",
      "(1000, 100)\n",
      "(1000, 784)\n"
     ]
    }
   ],
   "source": [
    "data_pred = data[:1000]\n",
    "print data_pred.shape\n",
    "ex = encoder.predict(data_pred)\n",
    "print ex.shape\n",
    "\n",
    "dx = decoder.predict(ex)\n",
    "print dx.shape"
   ]
  },
  {
   "cell_type": "code",
   "execution_count": 9,
   "metadata": {
    "scrolled": true
   },
   "outputs": [
    {
     "name": "stdout",
     "output_type": "stream",
     "text": [
      "508\n"
     ]
    },
    {
     "data": {
      "image/png": "[encoded data removed]",
      "text/plain": [
       "<matplotlib.figure.Figure at 0x7f52f5248d10>"
      ]
     },
     "metadata": {},
     "output_type": "display_data"
    },
    {
     "data": {
      "image/png": "[encoded data removed]",
      "text/plain": [
       "<matplotlib.figure.Figure at 0x7f52f433dcd0>"
      ]
     },
     "metadata": {},
     "output_type": "display_data"
    }
   ],
   "source": [
    "n = np.random.choice(1000)\n",
    "print n\n",
    "plt.imshow(data[n].reshape((28, 28)), cmap='gray')\n",
    "plt.show()\n",
    "plt.imshow(dx[n].reshape((28, 28)), cmap='gray')\n",
    "plt.show()"
   ]
  },
  {
   "cell_type": "code",
   "execution_count": null,
   "metadata": {
    "collapsed": true
   },
   "outputs": [],
   "source": []
  }
 ],
 "metadata": {
  "kernelspec": {
   "display_name": "Python 2",
   "language": "python",
   "name": "python2"
  },
  "language_info": {
   "codemirror_mode": {
    "name": "ipython",
    "version": 2
   },
   "file_extension": ".py",
   "mimetype": "text/x-python",
   "name": "python",
   "nbconvert_exporter": "python",
   "pygments_lexer": "ipython2",
   "version": "2.7.11"
  }
 },
 "nbformat": 4,
 "nbformat_minor": 2
}
